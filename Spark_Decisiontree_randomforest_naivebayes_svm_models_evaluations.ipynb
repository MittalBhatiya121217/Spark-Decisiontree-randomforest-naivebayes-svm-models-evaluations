{
  "nbformat": 4,
  "nbformat_minor": 0,
  "metadata": {
    "colab": {
      "provenance": [],
      "collapsed_sections": [
        "b5AGQpSmvZKm",
        "ond6UFZnD4NN"
      ]
    },
    "kernelspec": {
      "name": "python3",
      "display_name": "Python 3"
    },
    "language_info": {
      "name": "python"
    }
  },
  "cells": [
    {
      "cell_type": "markdown",
      "source": [
        "# **1. Install spark**"
      ],
      "metadata": {
        "id": "b5AGQpSmvZKm"
      }
    },
    {
      "cell_type": "code",
      "source": [
        "!apt-get install openjdk-8-jdk-headless -qq > /dev/null\n",
        "!wget -q https://dlcdn.apache.org/spark/spark-3.0.3/spark-3.0.3-bin-hadoop2.7.tgz\n",
        "!tar xf spark-3.0.3-bin-hadoop2.7.tgz\n",
        "!pip install -q findspark"
      ],
      "metadata": {
        "id": "xK6_FNXBvpRK"
      },
      "execution_count": null,
      "outputs": []
    },
    {
      "cell_type": "code",
      "source": [
        "import os\n",
        "os.environ[\"JAVA_HOME\"] = \"/usr/lib/jvm/java-8-openjdk-amd64\"\n",
        "os.environ[\"SPARK_HOME\"] = \"/content/spark-3.0.3-bin-hadoop2.7\""
      ],
      "metadata": {
        "id": "jfInZFkav1IM"
      },
      "execution_count": null,
      "outputs": []
    },
    {
      "cell_type": "code",
      "source": [
        "import findspark\n",
        "findspark.init()\n",
        "from pyspark.sql import SparkSession\n",
        "spark = SparkSession.builder.master(\"local[*]\").getOrCreate()"
      ],
      "metadata": {
        "id": "OQVpPh0Av5jo"
      },
      "execution_count": null,
      "outputs": []
    },
    {
      "cell_type": "markdown",
      "source": [
        "# **2. Load dataset**"
      ],
      "metadata": {
        "id": "ond6UFZnD4NN"
      }
    },
    {
      "cell_type": "code",
      "source": [
        "'''\n",
        "load models\n",
        "'''\n",
        "from pyspark.ml import Pipeline\n",
        "from pyspark.ml.feature import StringIndexer, VectorIndexer, IndexToString\n",
        "from pyspark.ml.evaluation import MulticlassClassificationEvaluator\n",
        "from pyspark.mllib.evaluation import MulticlassMetrics"
      ],
      "metadata": {
        "id": "2O7I_lR2D9bk"
      },
      "execution_count": null,
      "outputs": []
    },
    {
      "cell_type": "code",
      "source": [
        "'''\n",
        "load data\n",
        "load the dataset to google Drive. Then copy the link of the data file\n",
        "'''\n",
        "from google.colab import drive\n",
        "drive.mount('/content/drive')\n",
        "data = spark.read.format(\"libsvm\").load(\"/content/drive/MyDrive/dataset.txt\")"
      ],
      "metadata": {
        "id": "QM1XsPIlsnjj",
        "colab": {
          "base_uri": "https://localhost:8080/"
        },
        "outputId": "48bd3e60-3d8b-42f9-9237-5225b2a7a2dc"
      },
      "execution_count": null,
      "outputs": [
        {
          "output_type": "stream",
          "name": "stdout",
          "text": [
            "Drive already mounted at /content/drive; to attempt to forcibly remount, call drive.mount(\"/content/drive\", force_remount=True).\n"
          ]
        }
      ]
    },
    {
      "cell_type": "code",
      "source": [
        "data.select(\"features\").show(1,False)"
      ],
      "metadata": {
        "id": "Wrzzfeiqo9zG",
        "colab": {
          "base_uri": "https://localhost:8080/"
        },
        "outputId": "68ec3cb3-7a43-460b-a8a1-acee4e5bcb04"
      },
      "execution_count": null,
      "outputs": [
        {
          "output_type": "stream",
          "name": "stdout",
          "text": [
            "+-------------------------------------------------+\n",
            "|features                                         |\n",
            "+-------------------------------------------------+\n",
            "|(4,[0,1,2,3],[-0.222222,0.5,-0.762712,-0.833333])|\n",
            "+-------------------------------------------------+\n",
            "only showing top 1 row\n",
            "\n"
          ]
        }
      ]
    },
    {
      "cell_type": "code",
      "source": [
        "data.dtypes"
      ],
      "metadata": {
        "id": "szyL1uGY0rND",
        "colab": {
          "base_uri": "https://localhost:8080/"
        },
        "outputId": "de9dde03-3090-4a54-ceac-dd6992f67249"
      },
      "execution_count": null,
      "outputs": [
        {
          "output_type": "execute_result",
          "data": {
            "text/plain": [
              "[('label', 'double'), ('features', 'vector')]"
            ]
          },
          "metadata": {},
          "execution_count": 28
        }
      ]
    },
    {
      "cell_type": "code",
      "source": [
        "'''\n",
        "label indexer\n",
        "map a string column of labels to an ML column of label indices\n",
        "'''\n",
        "labelIndexer = StringIndexer(inputCol=\"label\", outputCol=\"indexedLabel\").fit(data)"
      ],
      "metadata": {
        "id": "JfDhcqCXtDYQ"
      },
      "execution_count": null,
      "outputs": []
    },
    {
      "cell_type": "code",
      "source": [
        "'''\n",
        "class for indexing categorical feature columns in a dataset of Vector\n",
        "'''\n",
        "featureIndexer =VectorIndexer(inputCol=\"features\", outputCol=\"indexedFeatures\", maxCategories=4).fit(data)"
      ],
      "metadata": {
        "id": "cBG-_bOvtOzw"
      },
      "execution_count": null,
      "outputs": []
    },
    {
      "cell_type": "code",
      "source": [
        "'''\n",
        "split dataset to training and testing\n",
        "'''\n",
        "(trainingData, testData) = data.randomSplit([0.7, 0.3])"
      ],
      "metadata": {
        "id": "7I-7pP0stWfY"
      },
      "execution_count": null,
      "outputs": []
    },
    {
      "cell_type": "markdown",
      "source": [
        "# **2. Decision Tree**\n",
        "Run below codes and answer question 1.\n",
        "\n",
        "reference:\n",
        "\n",
        "model:\n",
        "https://spark.apache.org/docs/latest/mllib-decision-tree.html\n",
        "\n",
        "evaluation:\n",
        "https://spark.apache.org/docs/latest/mllib-evaluation-metrics.html#multiclass-classification"
      ],
      "metadata": {
        "id": "21uTvYgroxGa"
      }
    },
    {
      "cell_type": "markdown",
      "source": [
        "## **Model**"
      ],
      "metadata": {
        "id": "tGN_NEMxdpYv"
      }
    },
    {
      "cell_type": "code",
      "source": [
        "from pyspark.ml.classification import DecisionTreeClassifier"
      ],
      "metadata": {
        "id": "HUSvUmlBsk-1"
      },
      "execution_count": null,
      "outputs": []
    },
    {
      "cell_type": "code",
      "source": [
        "dt = DecisionTreeClassifier( maxDepth=2,featuresCol=\"indexedFeatures\",labelCol=\"indexedLabel\")"
      ],
      "metadata": {
        "id": "mUbDZYFbtZ2w"
      },
      "execution_count": null,
      "outputs": []
    },
    {
      "cell_type": "code",
      "source": [
        "dt_pipeline = Pipeline(stages=[labelIndexer, featureIndexer, dt])"
      ],
      "metadata": {
        "id": "F15Ahpgw4fVQ"
      },
      "execution_count": null,
      "outputs": []
    },
    {
      "cell_type": "code",
      "source": [
        "dt_model = dt_pipeline.fit(trainingData)"
      ],
      "metadata": {
        "id": "Oo4q6tuI4ttL"
      },
      "execution_count": null,
      "outputs": []
    },
    {
      "cell_type": "code",
      "source": [
        "dt_predictions = dt_model.transform(testData)"
      ],
      "metadata": {
        "id": "9Inley5q4x_D"
      },
      "execution_count": null,
      "outputs": []
    },
    {
      "cell_type": "code",
      "source": [
        "print(dt_model.stages[2])"
      ],
      "metadata": {
        "id": "N3AMZonqFlIf",
        "colab": {
          "base_uri": "https://localhost:8080/"
        },
        "outputId": "9997bfa8-0bb3-4f1d-cf22-3b3ae6817466"
      },
      "execution_count": null,
      "outputs": [
        {
          "output_type": "stream",
          "name": "stdout",
          "text": [
            "DecisionTreeClassificationModel: uid=DecisionTreeClassifier_1fe829f1c824, depth=2, numNodes=5, numClasses=3, numFeatures=4\n"
          ]
        }
      ]
    },
    {
      "cell_type": "code",
      "source": [
        "dt_predictions.show(5)"
      ],
      "metadata": {
        "id": "vBrZCjDbDMkh",
        "colab": {
          "base_uri": "https://localhost:8080/"
        },
        "outputId": "5fd22475-0cf7-4239-9231-08ed0adbba46"
      },
      "execution_count": null,
      "outputs": [
        {
          "output_type": "stream",
          "name": "stdout",
          "text": [
            "+-----+--------------------+------------+--------------------+--------------+--------------------+----------+\n",
            "|label|            features|indexedLabel|     indexedFeatures| rawPrediction|         probability|prediction|\n",
            "+-----+--------------------+------------+--------------------+--------------+--------------------+----------+\n",
            "|  0.0|(4,[0,1,2,3],[-0....|         0.0|(4,[0,1,2,3],[-0....|[33.0,0.0,0.0]|       [1.0,0.0,0.0]|       0.0|\n",
            "|  0.0|(4,[0,1,2,3],[-1....|         0.0|(4,[0,1,2,3],[-1....|[33.0,0.0,0.0]|       [1.0,0.0,0.0]|       0.0|\n",
            "|  0.0|(4,[0,1,2,3],[0.0...|         0.0|(4,[0,1,2,3],[0.0...|[33.0,0.0,0.0]|       [1.0,0.0,0.0]|       0.0|\n",
            "|  0.0|(4,[0,1,2,3],[0.0...|         0.0|(4,[0,1,2,3],[0.0...|[33.0,0.0,0.0]|       [1.0,0.0,0.0]|       0.0|\n",
            "|  0.0|(4,[0,1,2,3],[0.1...|         0.0|(4,[0,1,2,3],[0.1...|[4.0,0.0,38.0]|[0.09523809523809...|       2.0|\n",
            "+-----+--------------------+------------+--------------------+--------------+--------------------+----------+\n",
            "only showing top 5 rows\n",
            "\n"
          ]
        }
      ]
    },
    {
      "cell_type": "markdown",
      "source": [
        "## **Model Evaluation**\n",
        "You finish codes on the f1 and recall parts and run the code. Answer the question 1."
      ],
      "metadata": {
        "id": "CEw8svcndhJL"
      }
    },
    {
      "cell_type": "markdown",
      "source": [
        "Accurancy"
      ],
      "metadata": {
        "id": "DMbv6wIXcp57"
      }
    },
    {
      "cell_type": "code",
      "source": [
        "acc_evaluator_dt = MulticlassClassificationEvaluator(labelCol=\"indexedLabel\", predictionCol=\"prediction\", metricName=\"accuracy\",)\n",
        "acc_dt = acc_evaluator_dt.evaluate(dt_predictions)\n",
        "print(\"accurancy:\"+str(acc_dt))"
      ],
      "metadata": {
        "id": "EblTx858cpLI",
        "colab": {
          "base_uri": "https://localhost:8080/"
        },
        "outputId": "923d7b51-ccc6-4d72-b023-bd664ea0dd14"
      },
      "execution_count": null,
      "outputs": [
        {
          "output_type": "stream",
          "name": "stdout",
          "text": [
            "accurancy:0.9444444444444444\n"
          ]
        }
      ]
    },
    {
      "cell_type": "markdown",
      "source": [
        "Precision"
      ],
      "metadata": {
        "id": "ka2CAStYwsVf"
      }
    },
    {
      "cell_type": "code",
      "source": [
        "pr_evaluator_dt = MulticlassClassificationEvaluator(labelCol=\"indexedLabel\", predictionCol=\"prediction\", metricName=\"precisionByLabel\")\n",
        "precision_dt = pr_evaluator_dt.evaluate(dt_predictions)\n",
        "print(\"precision:\"+str(precision_dt))"
      ],
      "metadata": {
        "id": "OFqNVddLwp35",
        "colab": {
          "base_uri": "https://localhost:8080/"
        },
        "outputId": "ab900fb0-8db6-4546-bd37-f5e8f4c80896"
      },
      "execution_count": null,
      "outputs": [
        {
          "output_type": "stream",
          "name": "stdout",
          "text": [
            "precision:0.9230769230769231\n"
          ]
        }
      ]
    },
    {
      "cell_type": "markdown",
      "source": [
        "F1_score"
      ],
      "metadata": {
        "id": "nhSvvN31dPZd"
      }
    },
    {
      "cell_type": "code",
      "source": [],
      "metadata": {
        "id": "UwKk5PWAdQRk"
      },
      "execution_count": null,
      "outputs": []
    },
    {
      "cell_type": "markdown",
      "source": [
        "Recall"
      ],
      "metadata": {
        "id": "lRRuW64WdYAr"
      }
    },
    {
      "cell_type": "code",
      "source": [],
      "metadata": {
        "id": "I57iQQ6SdZ9Y"
      },
      "execution_count": null,
      "outputs": []
    },
    {
      "cell_type": "markdown",
      "source": [
        "# **3. Random forest**\n",
        "Run below codes and answer question 2.\n",
        "\n",
        "reference:\n",
        "\n",
        "model:\n",
        "https://spark.apache.org/docs/latest/mllib-ensembles.html#random-forests\n",
        "\n",
        "evaluation:\n",
        "https://spark.apache.org/docs/latest/mllib-evaluation-metrics.html#multiclass-classification"
      ],
      "metadata": {
        "id": "YFFKRNGpDdXe"
      }
    },
    {
      "cell_type": "markdown",
      "source": [
        "## **Model**"
      ],
      "metadata": {
        "id": "G_aMOlvHdtuF"
      }
    },
    {
      "cell_type": "code",
      "source": [
        "from pyspark.ml.classification import RandomForestClassifier"
      ],
      "metadata": {
        "id": "Yx9SDr81Dk4n"
      },
      "execution_count": null,
      "outputs": []
    },
    {
      "cell_type": "code",
      "source": [
        "rf = RandomForestClassifier(numTrees=3,featuresCol=\"indexedFeatures\",labelCol=\"indexedLabel\")"
      ],
      "metadata": {
        "id": "r55Np16LEZi4"
      },
      "execution_count": null,
      "outputs": []
    },
    {
      "cell_type": "code",
      "source": [
        "rf_pipeline = Pipeline(stages=[labelIndexer, featureIndexer, rf])"
      ],
      "metadata": {
        "id": "josHpbkfE_L3"
      },
      "execution_count": null,
      "outputs": []
    },
    {
      "cell_type": "code",
      "source": [
        "rf_model = rf_pipeline.fit(trainingData)"
      ],
      "metadata": {
        "id": "JEHOWDddFHl2"
      },
      "execution_count": null,
      "outputs": []
    },
    {
      "cell_type": "code",
      "source": [
        "rf_predictions = rf_model.transform(testData)"
      ],
      "metadata": {
        "id": "81kg0eGtFPLx"
      },
      "execution_count": null,
      "outputs": []
    },
    {
      "cell_type": "code",
      "source": [
        "print(rf_model.stages[2])"
      ],
      "metadata": {
        "id": "rfHKIV4_GxIm",
        "colab": {
          "base_uri": "https://localhost:8080/"
        },
        "outputId": "560bd9d7-2c15-4ddd-f0f0-0a9a83625665"
      },
      "execution_count": null,
      "outputs": [
        {
          "output_type": "stream",
          "name": "stdout",
          "text": [
            "RandomForestClassificationModel: uid=RandomForestClassifier_25cc4cb85fd5, numTrees=3, numClasses=3, numFeatures=4\n"
          ]
        }
      ]
    },
    {
      "cell_type": "code",
      "source": [
        "rf_predictions.show(5)"
      ],
      "metadata": {
        "id": "bNCQPS1oFY9-",
        "colab": {
          "base_uri": "https://localhost:8080/"
        },
        "outputId": "a7a01d96-fcdd-4d63-d389-3871d2de0d43"
      },
      "execution_count": null,
      "outputs": [
        {
          "output_type": "stream",
          "name": "stdout",
          "text": [
            "+-----+--------------------+------------+--------------------+-------------+--------------------+----------+\n",
            "|label|            features|indexedLabel|     indexedFeatures|rawPrediction|         probability|prediction|\n",
            "+-----+--------------------+------------+--------------------+-------------+--------------------+----------+\n",
            "|  0.0|(4,[0,1,2,3],[-0....|         0.0|(4,[0,1,2,3],[-0....|[3.0,0.0,0.0]|       [1.0,0.0,0.0]|       0.0|\n",
            "|  0.0|(4,[0,1,2,3],[-1....|         0.0|(4,[0,1,2,3],[-1....|[3.0,0.0,0.0]|       [1.0,0.0,0.0]|       0.0|\n",
            "|  0.0|(4,[0,1,2,3],[0.0...|         0.0|(4,[0,1,2,3],[0.0...|[3.0,0.0,0.0]|       [1.0,0.0,0.0]|       0.0|\n",
            "|  0.0|(4,[0,1,2,3],[0.0...|         0.0|(4,[0,1,2,3],[0.0...|[3.0,0.0,0.0]|       [1.0,0.0,0.0]|       0.0|\n",
            "|  0.0|(4,[0,1,2,3],[0.1...|         0.0|(4,[0,1,2,3],[0.1...|[1.1,0.0,1.9]|[0.36666666666666...|       2.0|\n",
            "+-----+--------------------+------------+--------------------+-------------+--------------------+----------+\n",
            "only showing top 5 rows\n",
            "\n"
          ]
        }
      ]
    },
    {
      "cell_type": "markdown",
      "source": [
        "## **Model Evaluation**\n",
        "You finish codes on the precision and recall parts and run the code. Answer the question 2."
      ],
      "metadata": {
        "id": "X30zALf3dy4w"
      }
    },
    {
      "cell_type": "markdown",
      "source": [
        "Accurancy"
      ],
      "metadata": {
        "id": "ZgKiSqplyLDg"
      }
    },
    {
      "cell_type": "code",
      "source": [
        "acc_evaluator_rf = MulticlassClassificationEvaluator(labelCol=\"indexedLabel\", predictionCol=\"prediction\", metricName=\"accuracy\",)\n",
        "acc_rf = acc_evaluator_rf.evaluate(rf_predictions)\n",
        "print(\"accurancy:\"+str(acc_rf))"
      ],
      "metadata": {
        "id": "SqK_HVyGyKlk",
        "colab": {
          "base_uri": "https://localhost:8080/"
        },
        "outputId": "1cda44e9-3cee-4ac5-a53a-d0a6ed668825"
      },
      "execution_count": null,
      "outputs": [
        {
          "output_type": "stream",
          "name": "stdout",
          "text": [
            "accurancy:0.9444444444444444\n"
          ]
        }
      ]
    },
    {
      "cell_type": "markdown",
      "source": [
        "F1_score"
      ],
      "metadata": {
        "id": "dRclQYriyNeq"
      }
    },
    {
      "cell_type": "code",
      "source": [
        "f_evaluator_rf = MulticlassClassificationEvaluator(labelCol=\"indexedLabel\", predictionCol=\"prediction\", metricName=\"f1\")\n",
        "f1_score_rf = f_evaluator_rf.evaluate(rf_predictions)\n",
        "print(\"f1 score:\"+str(f1_score_rf))"
      ],
      "metadata": {
        "id": "VF1hYsPvyQR-",
        "colab": {
          "base_uri": "https://localhost:8080/"
        },
        "outputId": "2388b0a1-e15b-4806-e6d3-39900a65c5c1"
      },
      "execution_count": null,
      "outputs": [
        {
          "output_type": "stream",
          "name": "stdout",
          "text": [
            "f1 score:0.9444444444444444\n"
          ]
        }
      ]
    },
    {
      "cell_type": "markdown",
      "source": [
        "Precision"
      ],
      "metadata": {
        "id": "QqDRF4V6yQlW"
      }
    },
    {
      "cell_type": "code",
      "source": [],
      "metadata": {
        "id": "0cX7_yGEySqQ"
      },
      "execution_count": null,
      "outputs": []
    },
    {
      "cell_type": "markdown",
      "source": [
        "Recall"
      ],
      "metadata": {
        "id": "YsMFpW8oyTOe"
      }
    },
    {
      "cell_type": "code",
      "source": [],
      "metadata": {
        "id": "W8sQyYS0yUqi"
      },
      "execution_count": null,
      "outputs": []
    },
    {
      "cell_type": "markdown",
      "source": [
        "# **4. Naive bayes**\n",
        "Run below codes and answer question 3.\n",
        "\n",
        "reference:\n",
        "\n",
        "model:\n",
        "https://en.wikipedia.org/wiki/Naive_Bayes_classifier\n",
        "\n",
        "evaluation:\n",
        "https://spark.apache.org/docs/latest/mllib-evaluation-metrics.html#multiclass-classification"
      ],
      "metadata": {
        "id": "ss47FevCG2Oi"
      }
    },
    {
      "cell_type": "markdown",
      "source": [
        "## **Model**"
      ],
      "metadata": {
        "id": "BhAgkeRld3a9"
      }
    },
    {
      "cell_type": "code",
      "source": [
        "from pyspark.ml.classification import NaiveBayes"
      ],
      "metadata": {
        "id": "f5F-DkwHG9yd"
      },
      "execution_count": null,
      "outputs": []
    },
    {
      "cell_type": "code",
      "source": [
        "nb = NaiveBayes(smoothing=1.0, modelType=\"gaussian\",featuresCol=\"indexedFeatures\",labelCol=\"indexedLabel\",thresholds=[0.5,0.5,0.5])"
      ],
      "metadata": {
        "id": "mMAVOS-CHWmi"
      },
      "execution_count": null,
      "outputs": []
    },
    {
      "cell_type": "code",
      "source": [
        "nb_pipeline = Pipeline(stages=[labelIndexer, featureIndexer, nb])"
      ],
      "metadata": {
        "id": "JDHNMFJp6GLn"
      },
      "execution_count": null,
      "outputs": []
    },
    {
      "cell_type": "code",
      "source": [
        "nb_model = nb_pipeline.fit(trainingData)"
      ],
      "metadata": {
        "id": "_z5Q3cZtH0tG"
      },
      "execution_count": null,
      "outputs": []
    },
    {
      "cell_type": "code",
      "source": [
        "nb_predictions = nb_model.transform(testData)"
      ],
      "metadata": {
        "id": "AJfAV-fMH7-9"
      },
      "execution_count": null,
      "outputs": []
    },
    {
      "cell_type": "code",
      "source": [
        "print(nb_model.stages[2])"
      ],
      "metadata": {
        "id": "7_N4hJMT7VDC",
        "colab": {
          "base_uri": "https://localhost:8080/"
        },
        "outputId": "c6b669f7-5e1e-4586-e49d-eba0f7edb9db"
      },
      "execution_count": null,
      "outputs": [
        {
          "output_type": "stream",
          "name": "stdout",
          "text": [
            "NaiveBayesModel: uid=NaiveBayes_a71d3396877e, modelType=gaussian, numClasses=3, numFeatures=4\n"
          ]
        }
      ]
    },
    {
      "cell_type": "code",
      "source": [
        "nb_predictions.select(\"prediction\", \"indexedLabel\", \"indexedFeatures\").show(5)"
      ],
      "metadata": {
        "id": "IJJacCebIFTE",
        "colab": {
          "base_uri": "https://localhost:8080/"
        },
        "outputId": "5b9696bb-f4e5-49c6-cfd1-d602ad68100e"
      },
      "execution_count": null,
      "outputs": [
        {
          "output_type": "stream",
          "name": "stdout",
          "text": [
            "+----------+------------+--------------------+\n",
            "|prediction|indexedLabel|     indexedFeatures|\n",
            "+----------+------------+--------------------+\n",
            "|       0.0|         0.0|(4,[0,1,2,3],[-0....|\n",
            "|       0.0|         0.0|(4,[0,1,2,3],[-1....|\n",
            "|       0.0|         0.0|(4,[0,1,2,3],[0.0...|\n",
            "|       0.0|         0.0|(4,[0,1,2,3],[0.0...|\n",
            "|       2.0|         0.0|(4,[0,1,2,3],[0.1...|\n",
            "+----------+------------+--------------------+\n",
            "only showing top 5 rows\n",
            "\n"
          ]
        }
      ]
    },
    {
      "cell_type": "markdown",
      "source": [
        "## **Model Evaluation**\n",
        "You finish codes on the accurancy and f1 parts and run the code. Answer the question 3."
      ],
      "metadata": {
        "id": "Ul7yLhbIJF8K"
      }
    },
    {
      "cell_type": "markdown",
      "source": [
        "Precision"
      ],
      "metadata": {
        "id": "F31Md-FYJF8S"
      }
    },
    {
      "cell_type": "code",
      "source": [
        "pr_evaluator_nb = MulticlassClassificationEvaluator(labelCol=\"indexedLabel\", predictionCol=\"prediction\", metricName=\"precisionByLabel\")\n",
        "precision_nb = pr_evaluator_nb.evaluate(nb_predictions)\n",
        "print(\"precision:\"+str(precision_nb))"
      ],
      "metadata": {
        "id": "P3t9xJjZJF8T",
        "colab": {
          "base_uri": "https://localhost:8080/"
        },
        "outputId": "d0771c30-11ea-453f-ced3-9e377cb574c5"
      },
      "execution_count": null,
      "outputs": [
        {
          "output_type": "stream",
          "name": "stdout",
          "text": [
            "precision:0.8571428571428571\n"
          ]
        }
      ]
    },
    {
      "cell_type": "markdown",
      "source": [
        "Recall"
      ],
      "metadata": {
        "id": "oWxRLyliJF8T"
      }
    },
    {
      "cell_type": "code",
      "source": [
        "re_evaluator_nb = MulticlassClassificationEvaluator(labelCol=\"indexedLabel\", predictionCol=\"prediction\", metricName=\"recallByLabel\")\n",
        "recall_nb = re_evaluator_nb.evaluate(nb_predictions)\n",
        "print(\"recall:\"+str(recall_nb))"
      ],
      "metadata": {
        "id": "HX1YLPc8JF8U",
        "colab": {
          "base_uri": "https://localhost:8080/"
        },
        "outputId": "e9867124-fbf2-42b1-abd6-eef7f6de52e7"
      },
      "execution_count": null,
      "outputs": [
        {
          "output_type": "stream",
          "name": "stdout",
          "text": [
            "recall:0.9230769230769231\n"
          ]
        }
      ]
    },
    {
      "cell_type": "markdown",
      "source": [
        "Accurancy"
      ],
      "metadata": {
        "id": "-4-J33IdJF8N"
      }
    },
    {
      "cell_type": "code",
      "source": [],
      "metadata": {
        "id": "9hKvVJ1nJF8P"
      },
      "execution_count": null,
      "outputs": []
    },
    {
      "cell_type": "markdown",
      "source": [
        "F1_score"
      ],
      "metadata": {
        "id": "DI3mNpXDJF8R"
      }
    },
    {
      "cell_type": "code",
      "source": [],
      "metadata": {
        "id": "-02JZySKJF8S"
      },
      "execution_count": null,
      "outputs": []
    },
    {
      "cell_type": "markdown",
      "source": [
        "# **5. SVM**\n",
        "Run below codes and answer question 4.\n",
        "\n",
        "reference:\n",
        "\n",
        "model:\n",
        "https://en.wikipedia.org/wiki/Naive_Bayes_classifier\n",
        "\n",
        "evaluation:\n",
        "https://spark.apache.org/docs/latest/mllib-evaluation-metrics.html#multiclass-classification"
      ],
      "metadata": {
        "id": "EhpB_KcRIxgt"
      }
    },
    {
      "cell_type": "markdown",
      "source": [
        "## **Model**"
      ],
      "metadata": {
        "id": "biK96MjueHRD"
      }
    },
    {
      "cell_type": "code",
      "source": [
        "from pyspark.ml.classification import LinearSVC,OneVsRest"
      ],
      "metadata": {
        "id": "THsQ9ZcZI1OL"
      },
      "execution_count": null,
      "outputs": []
    },
    {
      "cell_type": "code",
      "source": [
        "lsvc = LinearSVC(maxIter=2, regParam=0.1,featuresCol=\"indexedFeatures\",labelCol=\"indexedLabel\")"
      ],
      "metadata": {
        "id": "HTK-rfSRI_om"
      },
      "execution_count": null,
      "outputs": []
    },
    {
      "cell_type": "code",
      "source": [
        "ovr = OneVsRest(classifier=lsvc)"
      ],
      "metadata": {
        "id": "1T48kiKEIpPs"
      },
      "execution_count": null,
      "outputs": []
    },
    {
      "cell_type": "code",
      "source": [
        "lsvc_pipeline = Pipeline(stages=[labelIndexer, featureIndexer, ovr])"
      ],
      "metadata": {
        "id": "BJHqZuvR-x3u"
      },
      "execution_count": null,
      "outputs": []
    },
    {
      "cell_type": "code",
      "source": [
        "lsvcModel = lsvc_pipeline.fit(trainingData)"
      ],
      "metadata": {
        "id": "TTHaxloQJFGv"
      },
      "execution_count": null,
      "outputs": []
    },
    {
      "cell_type": "code",
      "source": [
        "lsvc_prediction = lsvcModel.transform(testData)"
      ],
      "metadata": {
        "id": "9KND1gygJMu6"
      },
      "execution_count": null,
      "outputs": []
    },
    {
      "cell_type": "code",
      "source": [
        "lsvc_prediction.select(\"prediction\", \"indexedLabel\", \"indexedFeatures\").show()"
      ],
      "metadata": {
        "id": "lZLgV-8R8bZd",
        "colab": {
          "base_uri": "https://localhost:8080/"
        },
        "outputId": "bfcac09a-9447-43e8-a41e-f38e5b089992"
      },
      "execution_count": null,
      "outputs": [
        {
          "output_type": "stream",
          "name": "stdout",
          "text": [
            "+----------+------------+--------------------+\n",
            "|prediction|indexedLabel|     indexedFeatures|\n",
            "+----------+------------+--------------------+\n",
            "|       0.0|         0.0|(4,[0,1,2,3],[-0....|\n",
            "|       0.0|         0.0|(4,[0,1,2,3],[-1....|\n",
            "|       0.0|         0.0|(4,[0,1,2,3],[0.0...|\n",
            "|       0.0|         0.0|(4,[0,1,2,3],[0.0...|\n",
            "|       0.0|         0.0|(4,[0,1,2,3],[0.1...|\n",
            "|       0.0|         0.0|(4,[0,1,2,3],[0.1...|\n",
            "|       0.0|         0.0|(4,[0,1,2,3],[0.1...|\n",
            "|       0.0|         0.0|(4,[0,1,2,3],[0.1...|\n",
            "|       0.0|         0.0|(4,[0,1,2,3],[0.3...|\n",
            "|       0.0|         0.0|(4,[0,1,2,3],[0.4...|\n",
            "|       0.0|         0.0|(4,[0,1,2,3],[0.6...|\n",
            "|       0.0|         0.0|(4,[0,1,2,3],[0.8...|\n",
            "|       0.0|         0.0|(4,[0,2,3],[0.444...|\n",
            "|       1.0|         1.0|(4,[0,1,2,3],[-1....|\n",
            "|       1.0|         1.0|(4,[0,1,2,3],[-0....|\n",
            "|       1.0|         1.0|(4,[0,1,2,3],[-0....|\n",
            "|       1.0|         1.0|(4,[0,1,2,3],[-0....|\n",
            "|       1.0|         1.0|(4,[0,1,2,3],[-0....|\n",
            "|       1.0|         1.0|(4,[0,1,2,3],[-0....|\n",
            "|       1.0|         1.0|(4,[0,1,2,3],[-0....|\n",
            "+----------+------------+--------------------+\n",
            "only showing top 20 rows\n",
            "\n"
          ]
        }
      ]
    },
    {
      "cell_type": "markdown",
      "source": [
        "## **Model Evaluation**\n",
        "You finish codes on the accurancy and precision parts and run the code. Answer the question 4."
      ],
      "metadata": {
        "id": "SegCIHklJR6j"
      }
    },
    {
      "cell_type": "markdown",
      "source": [
        "F1_score"
      ],
      "metadata": {
        "id": "Y0dHYxPLJR6k"
      }
    },
    {
      "cell_type": "code",
      "source": [
        "f_evaluator_svm = MulticlassClassificationEvaluator(labelCol=\"indexedLabel\", predictionCol=\"prediction\", metricName=\"f1\")\n",
        "f1_score_svm = f_evaluator_svm.evaluate(lsvc_prediction)\n",
        "print(\"f1 score:\"+str(f1_score_svm))"
      ],
      "metadata": {
        "id": "uKXG_m_AJR6l",
        "colab": {
          "base_uri": "https://localhost:8080/"
        },
        "outputId": "3a36a9a8-cd31-47e1-e447-8820f1835233"
      },
      "execution_count": null,
      "outputs": [
        {
          "output_type": "stream",
          "name": "stdout",
          "text": [
            "f1 score:0.7483660130718954\n"
          ]
        }
      ]
    },
    {
      "cell_type": "markdown",
      "source": [
        "Recall"
      ],
      "metadata": {
        "id": "6594eBHsJR6l"
      }
    },
    {
      "cell_type": "code",
      "source": [
        "re_evaluator_svm = MulticlassClassificationEvaluator(labelCol=\"indexedLabel\", predictionCol=\"prediction\", metricName=\"recallByLabel\")\n",
        "recall_svm = re_evaluator_svm.evaluate(lsvc_prediction)\n",
        "print(\"recall:\"+str(recall_svm))"
      ],
      "metadata": {
        "id": "b8Jr6nPQJR6m",
        "colab": {
          "base_uri": "https://localhost:8080/"
        },
        "outputId": "b19940a0-1d78-45ae-94a0-1fec3e100f8c"
      },
      "execution_count": null,
      "outputs": [
        {
          "output_type": "stream",
          "name": "stdout",
          "text": [
            "recall:1.0\n"
          ]
        }
      ]
    },
    {
      "cell_type": "markdown",
      "source": [
        "Accurancy"
      ],
      "metadata": {
        "id": "i9wXXXFOJR6k"
      }
    },
    {
      "cell_type": "code",
      "source": [],
      "metadata": {
        "id": "E_sEu9OMJR6k"
      },
      "execution_count": null,
      "outputs": []
    },
    {
      "cell_type": "markdown",
      "source": [
        "Precision"
      ],
      "metadata": {
        "id": "E8eAPhofJR6l"
      }
    },
    {
      "cell_type": "code",
      "source": [],
      "metadata": {
        "id": "ARDSZHBqJR6l"
      },
      "execution_count": null,
      "outputs": []
    }
  ]
}